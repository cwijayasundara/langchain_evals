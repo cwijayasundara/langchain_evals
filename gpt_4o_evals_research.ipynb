{
 "cells": [
  {
   "cell_type": "code",
   "execution_count": 1,
   "metadata": {},
   "outputs": [
    {
     "name": "stdout",
     "output_type": "stream",
     "text": [
      "Note: you may need to restart the kernel to use updated packages.\n",
      "Note: you may need to restart the kernel to use updated packages.\n",
      "Note: you may need to restart the kernel to use updated packages.\n",
      "Note: you may need to restart the kernel to use updated packages.\n",
      "Note: you may need to restart the kernel to use updated packages.\n",
      "Note: you may need to restart the kernel to use updated packages.\n",
      "Note: you may need to restart the kernel to use updated packages.\n",
      "Note: you may need to restart the kernel to use updated packages.\n"
     ]
    }
   ],
   "source": [
    "%pip install langchain -q\n",
    "%pip install langchain-chroma -q\n",
    "%pip install langchain-community -q\n",
    "%pip install langchain-openai -q\n",
    "%pip install grandalf -q\n",
    "%pip install numpy -q\n",
    "%pip install pandas -q\n",
    "%pip install langchain-anthropic -q"
   ]
  },
  {
   "cell_type": "code",
   "execution_count": 1,
   "metadata": {},
   "outputs": [],
   "source": [
    "import nest_asyncio\n",
    "nest_asyncio.apply()"
   ]
  },
  {
   "cell_type": "code",
   "execution_count": 2,
   "metadata": {},
   "outputs": [],
   "source": [
    "from dotenv import load_dotenv\n",
    "import warnings\n",
    "import os\n",
    "from langchain_openai import ChatOpenAI, OpenAIEmbeddings\n",
    "from langchain_chroma import Chroma\n",
    "from langchain_community.document_loaders import DirectoryLoader, TextLoader\n",
    "from langchain.text_splitter import RecursiveCharacterTextSplitter\n",
    "from langchain_anthropic import ChatAnthropic\n",
    "from langchain_chroma import Chroma\n",
    "from langchain_community.document_loaders import DirectoryLoader, TextLoader\n",
    "from langchain.text_splitter import RecursiveCharacterTextSplitter\n",
    "from langchain_core.documents import Document\n",
    "from langchain.prompts import ChatPromptTemplate\n",
    "from langchain_core.runnables import RunnablePassthrough\n",
    "from langchain_core.output_parsers import StrOutputParser\n",
    "from typing import List, Dict\n",
    "from typing import TypedDict\n",
    "from pydantic import BaseModel"
   ]
  },
  {
   "cell_type": "code",
   "execution_count": 3,
   "metadata": {},
   "outputs": [],
   "source": [
    "warnings.filterwarnings('ignore')\n",
    "_ = load_dotenv()\n",
    "\n",
    "embed_model = OpenAIEmbeddings(model=\"text-embedding-3-small\")\n",
    "rag_llm = ChatOpenAI(model=\"gpt-4o-mini\") # Used for RAG\n",
    "qa_llm = ChatOpenAI(model=\"gpt-4o\", temperature=0.1) # Used to create eval dataset\n",
    "# benchmark_llm = ChatOpenAI(model=\"gpt-4o-2024-08-06\", temperature=0.1) # Used to evaluate (Judge)\n",
    "benchmark_llm = ChatAnthropic(model=\"claude-3-5-sonnet-20240620\")"
   ]
  },
  {
   "cell_type": "code",
   "execution_count": 4,
   "metadata": {},
   "outputs": [
    {
     "name": "stdout",
     "output_type": "stream",
     "text": [
      "Documents indexed: 27\n"
     ]
    }
   ],
   "source": [
    "loader = DirectoryLoader(\"data/paul_graham/\", use_multithreading=True, loader_cls=TextLoader)\n",
    "text_splitter = RecursiveCharacterTextSplitter(\n",
    "    separators=[\n",
    "        \"\\n\\n\", \n",
    "        \"\\n\", \n",
    "        \" \",\n",
    "        \"\",\n",
    "    ],\n",
    "    chunk_size=3000,\n",
    "    chunk_overlap=200,\n",
    "    length_function=len,\n",
    "    is_separator_regex=False,\n",
    ")\n",
    "documents = loader.load_and_split(text_splitter=text_splitter) # Load text\n",
    "vectorstore = Chroma.from_documents(documents, embedding=embed_model, collection_name=\"groq_rag\")\n",
    "retriever = vectorstore.as_retriever()\n",
    "print(f\"Documents indexed: {len(documents)}\")"
   ]
  },
  {
   "cell_type": "code",
   "execution_count": 5,
   "metadata": {},
   "outputs": [
    {
     "data": {
      "text/plain": [
       "[Document(metadata={'source': 'data/paul_graham/paul_graham_essay.txt'}, page_content='What I Worked On\\n\\nFebruary 2021\\n\\nBefore college the two main things I worked on, outside of school, were writing and programming. I didn\\'t write essays. I wrote what beginning writers were supposed to write then, and probably still are: short stories. My stories were awful. They had hardly any plot, just characters with strong feelings, which I imagined made them deep.\\n\\nThe first programs I tried writing were on the IBM 1401 that our school district used for what was then called \"data processing.\" This was in 9th grade, so I was 13 or 14. The school district\\'s 1401 happened to be in the basement of our junior high school, and my friend Rich Draves and I got permission to use it. It was like a mini Bond villain\\'s lair down there, with all these alien-looking machines — CPU, disk drives, printer, card reader — sitting up on a raised floor under bright fluorescent lights.\\n\\nThe language we used was an early version of Fortran. You had to type programs on punch cards, then stack them in the card reader and press a button to load the program into memory and run it. The result would ordinarily be to print something on the spectacularly loud printer.\\n\\nI was puzzled by the 1401. I couldn\\'t figure out what to do with it. And in retrospect there\\'s not much I could have done with it. The only form of input to programs was data stored on punched cards, and I didn\\'t have any data stored on punched cards. The only other option was to do things that didn\\'t rely on any input, like calculate approximations of pi, but I didn\\'t know enough math to do anything interesting of that type. So I\\'m not surprised I can\\'t remember any programs I wrote, because they can\\'t have done much. My clearest memory is of the moment I learned it was possible for programs not to terminate, when one of mine didn\\'t. On a machine without time-sharing, this was a social as well as a technical error, as the data center manager\\'s expression made clear.\\n\\nWith microcomputers, everything changed. Now you could have a computer sitting right in front of you, on a desk, that could respond to your keystrokes as it was running instead of just churning through a stack of punch cards and then stopping. [1]\\n\\nThe first of my friends to get a microcomputer built it himself. It was sold as a kit by Heathkit. I remember vividly how impressed and envious I felt watching him sitting in front of it, typing programs right into the computer.\\n\\nComputers were expensive in those days and it took me years of nagging before I convinced my father to buy one, a TRS-80, in about 1980. The gold standard then was the Apple II, but a TRS-80 was good enough. This was when I really started programming. I wrote simple games, a program to predict how high my model rockets would fly, and a word processor that my father used to write at least one book. There was only room in memory for about 2 pages of text, so he\\'d write 2 pages at a time and then print them out, but it was a lot better than a typewriter.'),\n",
       " Document(metadata={'source': 'data/paul_graham/paul_graham_essay.txt'}, page_content='I had to ban myself from writing essays during most of this time, or I\\'d never have finished. In late 2015 I spent 3 months writing essays, and when I went back to working on Bel I could barely understand the code. Not so much because it was badly written as because the problem is so convoluted. When you\\'re working on an interpreter written in itself, it\\'s hard to keep track of what\\'s happening at what level, and errors can be practically encrypted by the time you get them.\\n\\nSo I said no more essays till Bel was done. But I told few people about Bel while I was working on it. So for years it must have seemed that I was doing nothing, when in fact I was working harder than I\\'d ever worked on anything. Occasionally after wrestling for hours with some gruesome bug I\\'d check Twitter or HN and see someone asking \"Does Paul Graham still code?\"\\n\\nWorking on Bel was hard but satisfying. I worked on it so intensively that at any given time I had a decent chunk of the code in my head and could write more there. I remember taking the boys to the coast on a sunny day in 2015 and figuring out how to deal with some problem involving continuations while I watched them play in the tide pools. It felt like I was doing life right. I remember that because I was slightly dismayed at how novel it felt. The good news is that I had more moments like this over the next few years.\\n\\nIn the summer of 2016 we moved to England. We wanted our kids to see what it was like living in another country, and since I was a British citizen by birth, that seemed the obvious choice. We only meant to stay for a year, but we liked it so much that we still live there. So most of Bel was written in England.\\n\\nIn the fall of 2019, Bel was finally finished. Like McCarthy\\'s original Lisp, it\\'s a spec rather than an implementation, although like McCarthy\\'s Lisp it\\'s a spec expressed as code.\\n\\nNow that I could write essays again, I wrote a bunch about topics I\\'d had stacked up. I kept writing essays through 2020, but I also started to think about other things I could work on. How should I choose what to do? Well, how had I chosen what to work on in the past? I wrote an essay for myself to answer that question, and I was surprised how long and messy the answer turned out to be. If this surprised me, who\\'d lived it, then I thought perhaps it would be interesting to other people, and encouraging to those with similarly messy lives. So I wrote a more detailed version for others to read, and this is the last sentence of it.\\n\\n\\n\\n\\n\\n\\n\\n\\n\\nNotes\\n\\n[1] My experience skipped a step in the evolution of computers: time-sharing machines with interactive OSes. I went straight from batch processing to microcomputers, which made microcomputers seem all the more exciting.'),\n",
       " Document(metadata={'source': 'data/paul_graham/paul_graham_essay.txt'}, page_content=\"One of the most conspicuous patterns I've noticed in my life is how well it has worked, for me at least, to work on things that weren't prestigious. Still life has always been the least prestigious form of painting. Viaweb and Y Combinator both seemed lame when we started them. I still get the glassy eye from strangers when they ask what I'm writing, and I explain that it's an essay I'm going to publish on my web site. Even Lisp, though prestigious intellectually in something like the way Latin is, also seems about as hip.\\n\\nIt's not that unprestigious types of work are good per se. But when you find yourself drawn to some kind of work despite its current lack of prestige, it's a sign both that there's something real to be discovered there, and that you have the right kind of motives. Impure motives are a big danger for the ambitious. If anything is going to lead you astray, it will be the desire to impress people. So while working on things that aren't prestigious doesn't guarantee you're on the right track, it at least guarantees you're not on the most common type of wrong one.\\n\\nOver the next several years I wrote lots of essays about all kinds of different topics. O'Reilly reprinted a collection of them as a book, called Hackers & Painters after one of the essays in it. I also worked on spam filters, and did some more painting. I used to have dinners for a group of friends every thursday night, which taught me how to cook for groups. And I bought another building in Cambridge, a former candy factory (and later, twas said, porn studio), to use as an office.\\n\\nOne night in October 2003 there was a big party at my house. It was a clever idea of my friend Maria Daniels, who was one of the thursday diners. Three separate hosts would all invite their friends to one party. So for every guest, two thirds of the other guests would be people they didn't know but would probably like. One of the guests was someone I didn't know but would turn out to like a lot: a woman called Jessica Livingston. A couple days later I asked her out.\\n\\nJessica was in charge of marketing at a Boston investment bank. This bank thought it understood startups, but over the next year, as she met friends of mine from the startup world, she was surprised how different reality was. And how colorful their stories were. So she decided to compile a book of interviews with startup founders.\\n\\nWhen the bank had financial problems and she had to fire half her staff, she started looking for a new job. In early 2005 she interviewed for a marketing job at a Boston VC firm. It took them weeks to make up their minds, and during this time I started telling her about all the things that needed to be fixed about venture capital. They should make a larger number of smaller investments instead of a handful of giant ones, they should be funding younger, more technical founders instead of MBAs, they should let the founders remain as CEO, and so on.\"),\n",
       " Document(metadata={'source': 'data/paul_graham/paul_graham_essay.txt'}, page_content='When I left to go back to RISD the next fall, I arranged to do freelance work for the group that did projects for customers, and this was how I survived for the next several years. When I came back to visit for a project later on, someone told me about a new thing called HTML, which was, as he described it, a derivative of SGML. Markup language enthusiasts were an occupational hazard at Interleaf and I ignored him, but this HTML thing later became a big part of my life.\\n\\nIn the fall of 1992 I moved back to Providence to continue at RISD. The foundation had merely been intro stuff, and the Accademia had been a (very civilized) joke. Now I was going to see what real art school was like. But alas it was more like the Accademia than not. Better organized, certainly, and a lot more expensive, but it was now becoming clear that art school did not bear the same relationship to art that medical school bore to medicine. At least not the painting department. The textile department, which my next door neighbor belonged to, seemed to be pretty rigorous. No doubt illustration and architecture were too. But painting was post-rigorous. Painting students were supposed to express themselves, which to the more worldly ones meant to try to cook up some sort of distinctive signature style.\\n\\nA signature style is the visual equivalent of what in show business is known as a \"schtick\": something that immediately identifies the work as yours and no one else\\'s. For example, when you see a painting that looks like a certain kind of cartoon, you know it\\'s by Roy Lichtenstein. So if you see a big painting of this type hanging in the apartment of a hedge fund manager, you know he paid millions of dollars for it. That\\'s not always why artists have a signature style, but it\\'s usually why buyers pay a lot for such work. [6]\\n\\nThere were plenty of earnest students too: kids who \"could draw\" in high school, and now had come to what was supposed to be the best art school in the country, to learn to draw even better. They tended to be confused and demoralized by what they found at RISD, but they kept going, because painting was what they did. I was not one of the kids who could draw in high school, but at RISD I was definitely closer to their tribe than the tribe of signature style seekers.\\n\\nI learned a lot in the color class I took at RISD, but otherwise I was basically teaching myself to paint, and I could do that for free. So in 1993 I dropped out. I hung around Providence for a bit, and then my college friend Nancy Parmet did me a big favor. A rent-controlled apartment in a building her mother owned in New York was becoming vacant. Did I want it? It wasn\\'t much more than my current place, and New York was supposed to be where the artists were. So yes, I wanted it! [7]')]"
      ]
     },
     "execution_count": 5,
     "metadata": {},
     "output_type": "execute_result"
    }
   ],
   "source": [
    "await retriever.ainvoke(\"What did paul graham do growing up?\")"
   ]
  },
  {
   "cell_type": "markdown",
   "metadata": {},
   "source": [
    "RAG pipeline"
   ]
  },
  {
   "cell_type": "code",
   "execution_count": 6,
   "metadata": {},
   "outputs": [],
   "source": [
    "RAG_SYSTEM_PROMPT = \"\"\"\\\n",
    "You are an assistant for question-answering tasks. \\\n",
    "Use the following pieces of retrieved context given within delimiters to answer the human's questions.\n",
    "```\n",
    "{context}\n",
    "```\n",
    "If you don't know the answer, just say that you don't know.\\\n",
    "\"\"\"\n",
    "\n",
    "RAG_HUMAN_PROMPT = \"{input}\"\n",
    "\n",
    "RAG_PROMPT = ChatPromptTemplate.from_messages([\n",
    "    (\"system\", RAG_SYSTEM_PROMPT),\n",
    "    (\"human\", RAG_HUMAN_PROMPT)\n",
    "])\n",
    "\n",
    "def format_docs(docs: List[Document]):\n",
    "    \"\"\"Format the retrieved documents\"\"\"\n",
    "    return \"\\n\".join(doc.page_content for doc in docs)\n",
    "\n",
    "rag_chain = (\n",
    "    {\n",
    "        \"context\": retriever | format_docs,\n",
    "        \"input\": RunnablePassthrough()\n",
    "    } \n",
    "    | RAG_PROMPT\n",
    "    | rag_llm\n",
    "    | StrOutputParser()\n",
    "\n",
    ")"
   ]
  },
  {
   "cell_type": "code",
   "execution_count": 7,
   "metadata": {},
   "outputs": [
    {
     "data": {
      "text/plain": [
       "'Growing up, Paul Graham worked primarily on two main activities outside of school: writing and programming. He wrote short stories, which he later described as lacking plot and depth, focusing instead on characters with strong feelings. He began programming in 9th grade using the IBM 1401, where he encountered early programming concepts and languages like Fortran. He later became more involved in programming when he convinced his father to buy a TRS-80 microcomputer, where he wrote simple games, a program to predict the altitude of model rockets, and a word processor. Throughout this time, he had to restrict himself from writing essays to focus on programming.'"
      ]
     },
     "execution_count": 7,
     "metadata": {},
     "output_type": "execute_result"
    }
   ],
   "source": [
    "await rag_chain.ainvoke(\"What did paul graham do growing up?\")"
   ]
  },
  {
   "cell_type": "markdown",
   "metadata": {},
   "source": [
    "Generate Evaluation Dataset"
   ]
  },
  {
   "cell_type": "code",
   "execution_count": 8,
   "metadata": {},
   "outputs": [],
   "source": [
    "class QAResponse(TypedDict):\n",
    "    question_1: str\n",
    "    question_2: str\n",
    "    question_3: str\n",
    "\n",
    "QA_HUMAN_PROMPT = \"\"\"\\\n",
    "You are a Teacher/ Professor. Your task is to setup questions for an upcoming \\\n",
    "quiz/examination. The questions should be diverse in nature across the document. \\\n",
    "Given the context information and not prior knowledge, generate only questions based on the below context. \\\n",
    "Restrict the questions to the context information provided within the delimiters.\n",
    "```\n",
    "{text}\n",
    "```\n",
    "Output the questions in JSON format with the keys question_1, question_2 and question_3 \\\n",
    "and make sure to escape any special characters to output clean, valid JSON.\\\n",
    "\"\"\"\n",
    "\n",
    "QA_PROMPT = ChatPromptTemplate.from_messages([\n",
    "    (\"human\", QA_HUMAN_PROMPT)\n",
    "])\n",
    "\n",
    "qa_chain = (\n",
    "{\"text\": RunnablePassthrough()}\n",
    "| QA_PROMPT\n",
    "| qa_llm.with_structured_output(method='json_mode', schema=QAResponse)\n",
    ")"
   ]
  },
  {
   "cell_type": "code",
   "execution_count": 9,
   "metadata": {},
   "outputs": [],
   "source": [
    "texts = [doc.page_content for doc in documents]\n",
    "questions: List[Dict] = await qa_chain.abatch(texts)"
   ]
  },
  {
   "cell_type": "code",
   "execution_count": 10,
   "metadata": {},
   "outputs": [
    {
     "name": "stdout",
     "output_type": "stream",
     "text": [
      "From document: \n",
      "What I Worked On\n",
      "\n",
      "February 2021\n",
      "\n",
      "Before college the two main things I worked on, outside of school, were writing and programming. I didn't write essays. I wrote what beginning writers were supposed to write then, and probably still are: short stories. My stories were awful. They had hardly any plot, just characters with strong feelings, which I imagined made them deep.\n",
      "\n",
      "The first programs I tried writing were on the IBM 1401 that our school district used for what was then called \"data processing.\" This was in 9th grade, so I was 13 or 14. The school district's 1401 happened to be in the basement of our junior high school, and my friend Rich Draves and I got permission to use it. It was like a mini Bond villain's lair down there, with all these alien-looking machines — CPU, disk drives, printer, card reader — sitting up on a raised floor under bright fluorescent lights.\n",
      "\n",
      "The language we used was an early version of Fortran. You had to type programs on punch cards, then stack them in the card reader and press a button to load the program into memory and run it. The result would ordinarily be to print something on the spectacularly loud printer.\n",
      "\n",
      "I was puzzled by the 1401. I couldn't figure out what to do with it. And in retrospect there's not much I could have done with it. The only form of input to programs was data stored on punched cards, and I didn't have any data stored on punched cards. The only other option was to do things that didn't rely on any input, like calculate approximations of pi, but I didn't know enough math to do anything interesting of that type. So I'm not surprised I can't remember any programs I wrote, because they can't have done much. My clearest memory is of the moment I learned it was possible for programs not to terminate, when one of mine didn't. On a machine without time-sharing, this was a social as well as a technical error, as the data center manager's expression made clear.\n",
      "\n",
      "With microcomputers, everything changed. Now you could have a computer sitting right in front of you, on a desk, that could respond to your keystrokes as it was running instead of just churning through a stack of punch cards and then stopping. [1]\n",
      "\n",
      "The first of my friends to get a microcomputer built it himself. It was sold as a kit by Heathkit. I remember vividly how impressed and envious I felt watching him sitting in front of it, typing programs right into the computer.\n",
      "\n",
      "Computers were expensive in those days and it took me years of nagging before I convinced my father to buy one, a TRS-80, in about 1980. The gold standard then was the Apple II, but a TRS-80 was good enough. This was when I really started programming. I wrote simple games, a program to predict how high my model rockets would fly, and a word processor that my father used to write at least one book. There was only room in memory for about 2 pages of text, so he'd write 2 pages at a time and then print them out, but it was a lot better than a typewriter.\n",
      "\n",
      "Questions generated:\n",
      "1: What were the two main activities the author worked on before college, outside of school?\n",
      "2: What was the first programming language the author used on the IBM 1401?\n",
      "3: What was the first microcomputer the author convinced his father to buy, and what were some of the programs he wrote on it?\n"
     ]
    }
   ],
   "source": [
    "print(f\"From document: \\n{texts[0]}\\n\")\n",
    "print(f\"Questions generated:\")\n",
    "for i, q in enumerate(questions[0].values(), 1): print(f'{i}: {q}')"
   ]
  },
  {
   "cell_type": "markdown",
   "metadata": {},
   "source": [
    "Evaluate the RAG Pipeline"
   ]
  },
  {
   "cell_type": "code",
   "execution_count": 11,
   "metadata": {},
   "outputs": [],
   "source": [
    "\n",
    "# Response object structure\n",
    "class EvalResponse(BaseModel):\n",
    "    score: int\n",
    "    explanation: str\n",
    "\n",
    "EVAL_HUMAN_PROMPT = \"\"\"\\\n",
    "You are given a question, an answer and reference text within marked delimiters. \\\n",
    "You must determine whether the given answer correctly answers the question based on the reference text. Here is the data:\n",
    "```Question\n",
    "{question}\n",
    "```\n",
    "```Reference\n",
    "{context}\n",
    "```\n",
    "```Answer\n",
    "{answer}\n",
    "```\n",
    "Respond with a valid JSON object containing two fields:\n",
    "{{\n",
    "    \"score\": \"int: a score between 0-10, 10 being highest, on whether the question is correctly and fully answered by the answer\",\n",
    "    \"explanation\": \"str: Provide an explanation as to why the score was given.\"\n",
    "}} \n",
    "Make sure to escape any special characters to output clean, valid JSON.\\\n",
    "\"\"\"\n",
    "\n",
    "EVAL_PROMPT = ChatPromptTemplate.from_messages([\n",
    "    (\"human\", EVAL_HUMAN_PROMPT)\n",
    "])\n",
    "\n",
    "eval_chain = (\n",
    "    {\n",
    "    \"context\": RunnablePassthrough(),\n",
    "    \"question\": RunnablePassthrough(), \n",
    "    \"answer\": RunnablePassthrough(),\n",
    "    }\n",
    "    | EVAL_PROMPT\n",
    "    | benchmark_llm.with_structured_output(schema=EvalResponse)\n",
    ")"
   ]
  },
  {
   "cell_type": "markdown",
   "metadata": {},
   "source": [
    "Collect the questions, answers and contexts"
   ]
  },
  {
   "cell_type": "code",
   "execution_count": 12,
   "metadata": {},
   "outputs": [
    {
     "name": "stdout",
     "output_type": "stream",
     "text": [
      "Question: What is the challenge faced when running a forum and writing essays, as described in the context?\n",
      "Answer: The challenge faced when running a forum and writing essays is that there is an assumption that you are aware of every conversation involving you on the forum. This leads to a situation where, if people post misinterpretations of your essays, you feel compelled to respond to them. Not responding to a sufficiently upvoted misinterpretation can be perceived as a tacit admission that it is correct, which can encourage more misinterpretations and conflicts. This combination of writing essays and managing a forum can become tedious and disastrous.\n",
      "---------------------\n",
      "Score: 10\n",
      "Explanation: The answer provided is fully correct and comprehensive, accurately addressing the challenge faced when running a forum and writing essays as described in the context. The response captures all key points from the reference text:\n",
      "\n",
      "1. It mentions the assumption that the forum runner sees every conversation involving them.\n",
      "2. It explains that people post misinterpretations of essays on forums.\n",
      "3. It highlights the compulsion to respond to these misinterpretations.\n",
      "4. It notes that not responding to upvoted misinterpretations can be seen as tacit admission of their correctness.\n",
      "5. It points out that this encourages more misinterpretations and conflicts.\n",
      "6. It describes the combination of writing essays and managing a forum as becoming tedious and disastrous.\n",
      "\n",
      "The answer effectively summarizes the \"bizarre edge case\" mentioned in the context, providing a clear and accurate explanation of the challenge. Therefore, it deserves the highest score of 10.\n",
      "---------------------\n"
     ]
    }
   ],
   "source": [
    "q1 = questions[-1]['question_1']\n",
    "t1 = texts[-1]\n",
    "\n",
    "print(f\"Question: {q1}\")\n",
    "a1 = await rag_chain.ainvoke(q1)\n",
    "print(f\"Answer: {a1}\")\n",
    "eval_input = {\n",
    "    'context': t1,\n",
    "    'question': q1,\n",
    "    'answer': a1\n",
    "}\n",
    "response = await eval_chain.ainvoke(eval_input)\n",
    "print(\"---------------------\")\n",
    "print(f\"Score: {response.score}\")\n",
    "print(f\"Explanation: {response.explanation}\")\n",
    "print(\"---------------------\")"
   ]
  },
  {
   "cell_type": "code",
   "execution_count": 13,
   "metadata": {},
   "outputs": [],
   "source": [
    "# Lets do it for all now\n",
    "from typing import TypedDict\n",
    "from time import time\n",
    "\n",
    "class EvalResult(TypedDict): # For type hinting\n",
    "    question: str\n",
    "    answer: str\n",
    "    context: str\n",
    "    score: int # Score between 0 - 10\n",
    "    explanation: str # Explanation on why the score was given\n",
    "\n",
    "async def evaluate(questions: List[Dict] = questions, texts: List[str] = texts) -> List[EvalResult]:\n",
    "    # Prepare inputs\n",
    "    batch_rag_inputs: List[Dict] = []\n",
    "    evals: List[Dict] = []\n",
    "    for q_dict, context in zip(questions, texts): \n",
    "        for question in q_dict.values(): \n",
    "            batch_rag_inputs.append(question)\n",
    "            evals.append({'question': question, 'context': context})\n",
    "\n",
    "    print(f\"Running RAG pipeline for {len(batch_rag_inputs)} questions\")\n",
    "    start = time()\n",
    "    answers = await rag_chain.abatch(batch_rag_inputs, config={'max_concurrency': 2}) # Reduce concurrency to avoid hitting rate limits\n",
    "    end = time()\n",
    "    print(f\"Time taken: {end - start}\")\n",
    "\n",
    "    # Update eval_input with the answers from the rag_chain\n",
    "    for eval_input, answer in zip(evals, answers):\n",
    "        eval_input.update({'answer': answer})\n",
    "    \n",
    "    # Run eval_chain to get evaluation\n",
    "    print(f\"Evaluating RAG pipeline...\")\n",
    "    start = time()\n",
    "    batch_score_explanations = await eval_chain.abatch(evals, config={'max_concurrency': 2}) # Pass in eval which contains List of 'answer', 'context', 'question'\n",
    "    end = time()\n",
    "    print(f\"Time taken: {end - start}\")\n",
    "    \n",
    "    # Update eval variable with the score and explanation\n",
    "    for eval, score_exp_dict in zip(evals, batch_score_explanations):\n",
    "        eval.update({\n",
    "            'score': score_exp_dict.score,\n",
    "            'explanation': score_exp_dict.explanation\n",
    "        })\n",
    "    \n",
    "    return evals"
   ]
  },
  {
   "cell_type": "code",
   "execution_count": 14,
   "metadata": {},
   "outputs": [
    {
     "name": "stdout",
     "output_type": "stream",
     "text": [
      "Running RAG pipeline for 3 questions\n",
      "Time taken: 2.401723861694336\n",
      "Evaluating RAG pipeline...\n",
      "Time taken: 7.18284797668457\n"
     ]
    }
   ],
   "source": [
    "evaluations = await evaluate(questions[:1], texts[:1]) # Remove the `:5` to evaluate all the questions on all your data"
   ]
  },
  {
   "cell_type": "code",
   "execution_count": 15,
   "metadata": {},
   "outputs": [
    {
     "name": "stdout",
     "output_type": "stream",
     "text": [
      "Evaluations saved to evaluations.csv\n"
     ]
    }
   ],
   "source": [
    "import csv\n",
    "csv_file = 'evaluations.csv'\n",
    "with open(csv_file, mode='w', newline='') as file:\n",
    "    writer = csv.writer(file)\n",
    "    writer.writerow(['Context', 'Score', 'Question', 'Answer', 'Explanation'])\n",
    "    for eval in evaluations:\n",
    "        writer.writerow([eval['context'], eval['score'], eval['question'], eval['answer'], eval['explanation']])\n",
    "\n",
    "print(f\"Evaluations saved to {csv_file}\")"
   ]
  }
 ],
 "metadata": {
  "kernelspec": {
   "display_name": ".venv",
   "language": "python",
   "name": "python3"
  },
  "language_info": {
   "codemirror_mode": {
    "name": "ipython",
    "version": 3
   },
   "file_extension": ".py",
   "mimetype": "text/x-python",
   "name": "python",
   "nbconvert_exporter": "python",
   "pygments_lexer": "ipython3",
   "version": "3.12.7"
  }
 },
 "nbformat": 4,
 "nbformat_minor": 2
}
